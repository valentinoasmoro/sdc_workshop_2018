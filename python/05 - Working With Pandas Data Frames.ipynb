{
 "cells": [
  {
   "cell_type": "markdown",
   "metadata": {},
   "source": [
    "# Working With Pandas Data Frames\n",
    "---"
   ]
  },
  {
   "cell_type": "markdown",
   "metadata": {},
   "source": [
    "* Import the pandas library as pd and read in the csv that we just wrote as a data frame using the `read_csv`."
   ]
  },
  {
   "cell_type": "code",
   "execution_count": 2,
   "metadata": {},
   "outputs": [],
   "source": [
    "import pandas as pd\n",
    "df = pd.read_csv('../data/processed_data/gapminder_final.csv')"
   ]
  },
  {
   "cell_type": "markdown",
   "metadata": {},
   "source": [
    "* return the data frame from jupyter to view it (pretty)"
   ]
  },
  {
   "cell_type": "code",
   "execution_count": 3,
   "metadata": {},
   "outputs": [
    {
     "data": {
      "text/html": [
       "<div>\n",
       "<style>\n",
       "    .dataframe thead tr:only-child th {\n",
       "        text-align: right;\n",
       "    }\n",
       "\n",
       "    .dataframe thead th {\n",
       "        text-align: left;\n",
       "    }\n",
       "\n",
       "    .dataframe tbody tr th {\n",
       "        vertical-align: top;\n",
       "    }\n",
       "</style>\n",
       "<table border=\"1\" class=\"dataframe\">\n",
       "  <thead>\n",
       "    <tr style=\"text-align: right;\">\n",
       "      <th></th>\n",
       "      <th>Unnamed: 0</th>\n",
       "      <th>country</th>\n",
       "      <th>year</th>\n",
       "      <th>pop</th>\n",
       "      <th>continent</th>\n",
       "      <th>lifeExp</th>\n",
       "      <th>gdpPercap</th>\n",
       "    </tr>\n",
       "  </thead>\n",
       "  <tbody>\n",
       "    <tr>\n",
       "      <th>0</th>\n",
       "      <td>0</td>\n",
       "      <td>Afghanistan</td>\n",
       "      <td>1997</td>\n",
       "      <td>22227415.0</td>\n",
       "      <td>Asia</td>\n",
       "      <td>41.763</td>\n",
       "      <td>635.341351</td>\n",
       "    </tr>\n",
       "    <tr>\n",
       "      <th>1</th>\n",
       "      <td>1</td>\n",
       "      <td>Afghanistan</td>\n",
       "      <td>2002</td>\n",
       "      <td>25268405.0</td>\n",
       "      <td>Asia</td>\n",
       "      <td>42.129</td>\n",
       "      <td>726.734055</td>\n",
       "    </tr>\n",
       "    <tr>\n",
       "      <th>2</th>\n",
       "      <td>2</td>\n",
       "      <td>Afghanistan</td>\n",
       "      <td>2007</td>\n",
       "      <td>31889923.0</td>\n",
       "      <td>Asia</td>\n",
       "      <td>43.828</td>\n",
       "      <td>974.580338</td>\n",
       "    </tr>\n",
       "    <tr>\n",
       "      <th>3</th>\n",
       "      <td>3</td>\n",
       "      <td>Afghanistan</td>\n",
       "      <td>1952</td>\n",
       "      <td>8425333.0</td>\n",
       "      <td>Asia</td>\n",
       "      <td>28.801</td>\n",
       "      <td>779.445314</td>\n",
       "    </tr>\n",
       "    <tr>\n",
       "      <th>4</th>\n",
       "      <td>4</td>\n",
       "      <td>Afghanistan</td>\n",
       "      <td>1957</td>\n",
       "      <td>9240934.0</td>\n",
       "      <td>Asia</td>\n",
       "      <td>30.332</td>\n",
       "      <td>820.853030</td>\n",
       "    </tr>\n",
       "    <tr>\n",
       "      <th>5</th>\n",
       "      <td>5</td>\n",
       "      <td>Afghanistan</td>\n",
       "      <td>1962</td>\n",
       "      <td>10267083.0</td>\n",
       "      <td>Asia</td>\n",
       "      <td>31.997</td>\n",
       "      <td>853.100710</td>\n",
       "    </tr>\n",
       "    <tr>\n",
       "      <th>6</th>\n",
       "      <td>6</td>\n",
       "      <td>Afghanistan</td>\n",
       "      <td>1967</td>\n",
       "      <td>11537966.0</td>\n",
       "      <td>Asia</td>\n",
       "      <td>34.020</td>\n",
       "      <td>836.197138</td>\n",
       "    </tr>\n",
       "    <tr>\n",
       "      <th>7</th>\n",
       "      <td>7</td>\n",
       "      <td>Afghanistan</td>\n",
       "      <td>1972</td>\n",
       "      <td>13079460.0</td>\n",
       "      <td>Asia</td>\n",
       "      <td>36.088</td>\n",
       "      <td>739.981106</td>\n",
       "    </tr>\n",
       "    <tr>\n",
       "      <th>8</th>\n",
       "      <td>8</td>\n",
       "      <td>Afghanistan</td>\n",
       "      <td>1977</td>\n",
       "      <td>14880372.0</td>\n",
       "      <td>Asia</td>\n",
       "      <td>38.438</td>\n",
       "      <td>786.113360</td>\n",
       "    </tr>\n",
       "    <tr>\n",
       "      <th>9</th>\n",
       "      <td>9</td>\n",
       "      <td>Afghanistan</td>\n",
       "      <td>1982</td>\n",
       "      <td>12881816.0</td>\n",
       "      <td>Asia</td>\n",
       "      <td>39.854</td>\n",
       "      <td>978.011439</td>\n",
       "    </tr>\n",
       "    <tr>\n",
       "      <th>10</th>\n",
       "      <td>10</td>\n",
       "      <td>Afghanistan</td>\n",
       "      <td>1987</td>\n",
       "      <td>13867957.0</td>\n",
       "      <td>Asia</td>\n",
       "      <td>40.822</td>\n",
       "      <td>852.395945</td>\n",
       "    </tr>\n",
       "    <tr>\n",
       "      <th>11</th>\n",
       "      <td>11</td>\n",
       "      <td>Afghanistan</td>\n",
       "      <td>1992</td>\n",
       "      <td>16317921.0</td>\n",
       "      <td>Asia</td>\n",
       "      <td>41.674</td>\n",
       "      <td>649.341395</td>\n",
       "    </tr>\n",
       "    <tr>\n",
       "      <th>12</th>\n",
       "      <td>12</td>\n",
       "      <td>Albania</td>\n",
       "      <td>1952</td>\n",
       "      <td>1282697.0</td>\n",
       "      <td>Europe</td>\n",
       "      <td>55.230</td>\n",
       "      <td>1601.056136</td>\n",
       "    </tr>\n",
       "    <tr>\n",
       "      <th>13</th>\n",
       "      <td>13</td>\n",
       "      <td>Albania</td>\n",
       "      <td>1957</td>\n",
       "      <td>1476505.0</td>\n",
       "      <td>Europe</td>\n",
       "      <td>59.280</td>\n",
       "      <td>1942.284244</td>\n",
       "    </tr>\n",
       "    <tr>\n",
       "      <th>14</th>\n",
       "      <td>14</td>\n",
       "      <td>Albania</td>\n",
       "      <td>1962</td>\n",
       "      <td>1728137.0</td>\n",
       "      <td>Europe</td>\n",
       "      <td>64.820</td>\n",
       "      <td>2312.888958</td>\n",
       "    </tr>\n",
       "    <tr>\n",
       "      <th>15</th>\n",
       "      <td>15</td>\n",
       "      <td>Albania</td>\n",
       "      <td>1967</td>\n",
       "      <td>1984060.0</td>\n",
       "      <td>Europe</td>\n",
       "      <td>66.220</td>\n",
       "      <td>2760.196931</td>\n",
       "    </tr>\n",
       "    <tr>\n",
       "      <th>16</th>\n",
       "      <td>16</td>\n",
       "      <td>Albania</td>\n",
       "      <td>1972</td>\n",
       "      <td>2263554.0</td>\n",
       "      <td>Europe</td>\n",
       "      <td>67.690</td>\n",
       "      <td>3313.422188</td>\n",
       "    </tr>\n",
       "    <tr>\n",
       "      <th>17</th>\n",
       "      <td>17</td>\n",
       "      <td>Albania</td>\n",
       "      <td>1977</td>\n",
       "      <td>2509048.0</td>\n",
       "      <td>Europe</td>\n",
       "      <td>68.930</td>\n",
       "      <td>3533.003910</td>\n",
       "    </tr>\n",
       "    <tr>\n",
       "      <th>18</th>\n",
       "      <td>18</td>\n",
       "      <td>Albania</td>\n",
       "      <td>1982</td>\n",
       "      <td>2780097.0</td>\n",
       "      <td>Europe</td>\n",
       "      <td>70.420</td>\n",
       "      <td>3630.880722</td>\n",
       "    </tr>\n",
       "    <tr>\n",
       "      <th>19</th>\n",
       "      <td>19</td>\n",
       "      <td>Albania</td>\n",
       "      <td>1987</td>\n",
       "      <td>3075321.0</td>\n",
       "      <td>Europe</td>\n",
       "      <td>72.000</td>\n",
       "      <td>3738.932735</td>\n",
       "    </tr>\n",
       "    <tr>\n",
       "      <th>20</th>\n",
       "      <td>20</td>\n",
       "      <td>Albania</td>\n",
       "      <td>1992</td>\n",
       "      <td>3326498.0</td>\n",
       "      <td>Europe</td>\n",
       "      <td>71.581</td>\n",
       "      <td>2497.437901</td>\n",
       "    </tr>\n",
       "    <tr>\n",
       "      <th>21</th>\n",
       "      <td>21</td>\n",
       "      <td>Albania</td>\n",
       "      <td>1997</td>\n",
       "      <td>3428038.0</td>\n",
       "      <td>Europe</td>\n",
       "      <td>72.950</td>\n",
       "      <td>3193.054604</td>\n",
       "    </tr>\n",
       "    <tr>\n",
       "      <th>22</th>\n",
       "      <td>22</td>\n",
       "      <td>Albania</td>\n",
       "      <td>2002</td>\n",
       "      <td>3508512.0</td>\n",
       "      <td>Europe</td>\n",
       "      <td>75.651</td>\n",
       "      <td>4604.211737</td>\n",
       "    </tr>\n",
       "    <tr>\n",
       "      <th>23</th>\n",
       "      <td>23</td>\n",
       "      <td>Albania</td>\n",
       "      <td>2007</td>\n",
       "      <td>3600523.0</td>\n",
       "      <td>Europe</td>\n",
       "      <td>76.423</td>\n",
       "      <td>5937.029526</td>\n",
       "    </tr>\n",
       "    <tr>\n",
       "      <th>24</th>\n",
       "      <td>24</td>\n",
       "      <td>Algeria</td>\n",
       "      <td>1962</td>\n",
       "      <td>11000948.0</td>\n",
       "      <td>Africa</td>\n",
       "      <td>48.303</td>\n",
       "      <td>2550.816880</td>\n",
       "    </tr>\n",
       "    <tr>\n",
       "      <th>25</th>\n",
       "      <td>25</td>\n",
       "      <td>Algeria</td>\n",
       "      <td>1967</td>\n",
       "      <td>12760499.0</td>\n",
       "      <td>Africa</td>\n",
       "      <td>51.407</td>\n",
       "      <td>3246.991771</td>\n",
       "    </tr>\n",
       "    <tr>\n",
       "      <th>26</th>\n",
       "      <td>26</td>\n",
       "      <td>Algeria</td>\n",
       "      <td>1972</td>\n",
       "      <td>14760787.0</td>\n",
       "      <td>Africa</td>\n",
       "      <td>54.518</td>\n",
       "      <td>4182.663766</td>\n",
       "    </tr>\n",
       "    <tr>\n",
       "      <th>27</th>\n",
       "      <td>27</td>\n",
       "      <td>Algeria</td>\n",
       "      <td>1977</td>\n",
       "      <td>17152804.0</td>\n",
       "      <td>Africa</td>\n",
       "      <td>58.014</td>\n",
       "      <td>4910.416756</td>\n",
       "    </tr>\n",
       "    <tr>\n",
       "      <th>28</th>\n",
       "      <td>28</td>\n",
       "      <td>Algeria</td>\n",
       "      <td>1982</td>\n",
       "      <td>20033753.0</td>\n",
       "      <td>Africa</td>\n",
       "      <td>61.368</td>\n",
       "      <td>5745.160213</td>\n",
       "    </tr>\n",
       "    <tr>\n",
       "      <th>29</th>\n",
       "      <td>29</td>\n",
       "      <td>Algeria</td>\n",
       "      <td>1952</td>\n",
       "      <td>9279525.0</td>\n",
       "      <td>Africa</td>\n",
       "      <td>43.077</td>\n",
       "      <td>2449.008185</td>\n",
       "    </tr>\n",
       "    <tr>\n",
       "      <th>...</th>\n",
       "      <td>...</td>\n",
       "      <td>...</td>\n",
       "      <td>...</td>\n",
       "      <td>...</td>\n",
       "      <td>...</td>\n",
       "      <td>...</td>\n",
       "      <td>...</td>\n",
       "    </tr>\n",
       "    <tr>\n",
       "      <th>1674</th>\n",
       "      <td>1674</td>\n",
       "      <td>Yemen, Rep.</td>\n",
       "      <td>1982</td>\n",
       "      <td>9657618.0</td>\n",
       "      <td>Asia</td>\n",
       "      <td>49.113</td>\n",
       "      <td>1977.557010</td>\n",
       "    </tr>\n",
       "    <tr>\n",
       "      <th>1675</th>\n",
       "      <td>1675</td>\n",
       "      <td>Yemen, Rep.</td>\n",
       "      <td>1987</td>\n",
       "      <td>11219340.0</td>\n",
       "      <td>Asia</td>\n",
       "      <td>52.922</td>\n",
       "      <td>1971.741538</td>\n",
       "    </tr>\n",
       "    <tr>\n",
       "      <th>1676</th>\n",
       "      <td>1676</td>\n",
       "      <td>Yemen, Rep.</td>\n",
       "      <td>1992</td>\n",
       "      <td>13367997.0</td>\n",
       "      <td>Asia</td>\n",
       "      <td>55.599</td>\n",
       "      <td>1879.496673</td>\n",
       "    </tr>\n",
       "    <tr>\n",
       "      <th>1677</th>\n",
       "      <td>1677</td>\n",
       "      <td>Yemen, Rep.</td>\n",
       "      <td>1997</td>\n",
       "      <td>15826497.0</td>\n",
       "      <td>Asia</td>\n",
       "      <td>58.020</td>\n",
       "      <td>2117.484526</td>\n",
       "    </tr>\n",
       "    <tr>\n",
       "      <th>1678</th>\n",
       "      <td>1678</td>\n",
       "      <td>Yemen, Rep.</td>\n",
       "      <td>2002</td>\n",
       "      <td>18701257.0</td>\n",
       "      <td>Asia</td>\n",
       "      <td>60.308</td>\n",
       "      <td>2234.820827</td>\n",
       "    </tr>\n",
       "    <tr>\n",
       "      <th>1679</th>\n",
       "      <td>1679</td>\n",
       "      <td>Yemen, Rep.</td>\n",
       "      <td>2007</td>\n",
       "      <td>22211743.0</td>\n",
       "      <td>Asia</td>\n",
       "      <td>62.698</td>\n",
       "      <td>2280.769906</td>\n",
       "    </tr>\n",
       "    <tr>\n",
       "      <th>1680</th>\n",
       "      <td>1680</td>\n",
       "      <td>Zambia</td>\n",
       "      <td>1952</td>\n",
       "      <td>2672000.0</td>\n",
       "      <td>Africa</td>\n",
       "      <td>42.038</td>\n",
       "      <td>1147.388831</td>\n",
       "    </tr>\n",
       "    <tr>\n",
       "      <th>1681</th>\n",
       "      <td>1681</td>\n",
       "      <td>Zambia</td>\n",
       "      <td>1957</td>\n",
       "      <td>3016000.0</td>\n",
       "      <td>Africa</td>\n",
       "      <td>44.077</td>\n",
       "      <td>1311.956766</td>\n",
       "    </tr>\n",
       "    <tr>\n",
       "      <th>1682</th>\n",
       "      <td>1682</td>\n",
       "      <td>Zambia</td>\n",
       "      <td>1962</td>\n",
       "      <td>3421000.0</td>\n",
       "      <td>Africa</td>\n",
       "      <td>46.023</td>\n",
       "      <td>1452.725766</td>\n",
       "    </tr>\n",
       "    <tr>\n",
       "      <th>1683</th>\n",
       "      <td>1683</td>\n",
       "      <td>Zambia</td>\n",
       "      <td>1967</td>\n",
       "      <td>3900000.0</td>\n",
       "      <td>Africa</td>\n",
       "      <td>47.768</td>\n",
       "      <td>1777.077318</td>\n",
       "    </tr>\n",
       "    <tr>\n",
       "      <th>1684</th>\n",
       "      <td>1684</td>\n",
       "      <td>Zambia</td>\n",
       "      <td>1972</td>\n",
       "      <td>4506497.0</td>\n",
       "      <td>Africa</td>\n",
       "      <td>50.107</td>\n",
       "      <td>1773.498265</td>\n",
       "    </tr>\n",
       "    <tr>\n",
       "      <th>1685</th>\n",
       "      <td>1685</td>\n",
       "      <td>Zambia</td>\n",
       "      <td>1977</td>\n",
       "      <td>5216550.0</td>\n",
       "      <td>Africa</td>\n",
       "      <td>51.386</td>\n",
       "      <td>1588.688299</td>\n",
       "    </tr>\n",
       "    <tr>\n",
       "      <th>1686</th>\n",
       "      <td>1686</td>\n",
       "      <td>Zambia</td>\n",
       "      <td>1982</td>\n",
       "      <td>6100407.0</td>\n",
       "      <td>Africa</td>\n",
       "      <td>51.821</td>\n",
       "      <td>1408.678565</td>\n",
       "    </tr>\n",
       "    <tr>\n",
       "      <th>1687</th>\n",
       "      <td>1687</td>\n",
       "      <td>Zambia</td>\n",
       "      <td>1987</td>\n",
       "      <td>7272406.0</td>\n",
       "      <td>Africa</td>\n",
       "      <td>50.821</td>\n",
       "      <td>1213.315116</td>\n",
       "    </tr>\n",
       "    <tr>\n",
       "      <th>1688</th>\n",
       "      <td>1688</td>\n",
       "      <td>Zambia</td>\n",
       "      <td>1992</td>\n",
       "      <td>8381163.0</td>\n",
       "      <td>Africa</td>\n",
       "      <td>46.100</td>\n",
       "      <td>1210.884633</td>\n",
       "    </tr>\n",
       "    <tr>\n",
       "      <th>1689</th>\n",
       "      <td>1689</td>\n",
       "      <td>Zambia</td>\n",
       "      <td>1997</td>\n",
       "      <td>9417789.0</td>\n",
       "      <td>Africa</td>\n",
       "      <td>40.238</td>\n",
       "      <td>1071.353818</td>\n",
       "    </tr>\n",
       "    <tr>\n",
       "      <th>1690</th>\n",
       "      <td>1690</td>\n",
       "      <td>Zambia</td>\n",
       "      <td>2002</td>\n",
       "      <td>10595811.0</td>\n",
       "      <td>Africa</td>\n",
       "      <td>39.193</td>\n",
       "      <td>1071.613938</td>\n",
       "    </tr>\n",
       "    <tr>\n",
       "      <th>1691</th>\n",
       "      <td>1691</td>\n",
       "      <td>Zambia</td>\n",
       "      <td>2007</td>\n",
       "      <td>11746035.0</td>\n",
       "      <td>Africa</td>\n",
       "      <td>42.384</td>\n",
       "      <td>1271.211593</td>\n",
       "    </tr>\n",
       "    <tr>\n",
       "      <th>1692</th>\n",
       "      <td>1692</td>\n",
       "      <td>Zimbabwe</td>\n",
       "      <td>1952</td>\n",
       "      <td>3080907.0</td>\n",
       "      <td>Africa</td>\n",
       "      <td>48.451</td>\n",
       "      <td>406.884115</td>\n",
       "    </tr>\n",
       "    <tr>\n",
       "      <th>1693</th>\n",
       "      <td>1693</td>\n",
       "      <td>Zimbabwe</td>\n",
       "      <td>1957</td>\n",
       "      <td>3646340.0</td>\n",
       "      <td>Africa</td>\n",
       "      <td>50.469</td>\n",
       "      <td>518.764268</td>\n",
       "    </tr>\n",
       "    <tr>\n",
       "      <th>1694</th>\n",
       "      <td>1694</td>\n",
       "      <td>Zimbabwe</td>\n",
       "      <td>1962</td>\n",
       "      <td>4277736.0</td>\n",
       "      <td>Africa</td>\n",
       "      <td>52.358</td>\n",
       "      <td>527.272182</td>\n",
       "    </tr>\n",
       "    <tr>\n",
       "      <th>1695</th>\n",
       "      <td>1695</td>\n",
       "      <td>Zimbabwe</td>\n",
       "      <td>1967</td>\n",
       "      <td>4995432.0</td>\n",
       "      <td>Africa</td>\n",
       "      <td>53.995</td>\n",
       "      <td>569.795071</td>\n",
       "    </tr>\n",
       "    <tr>\n",
       "      <th>1696</th>\n",
       "      <td>1696</td>\n",
       "      <td>Zimbabwe</td>\n",
       "      <td>1972</td>\n",
       "      <td>5861135.0</td>\n",
       "      <td>Africa</td>\n",
       "      <td>55.635</td>\n",
       "      <td>799.362176</td>\n",
       "    </tr>\n",
       "    <tr>\n",
       "      <th>1697</th>\n",
       "      <td>1697</td>\n",
       "      <td>Zimbabwe</td>\n",
       "      <td>1977</td>\n",
       "      <td>6642107.0</td>\n",
       "      <td>Africa</td>\n",
       "      <td>57.674</td>\n",
       "      <td>685.587682</td>\n",
       "    </tr>\n",
       "    <tr>\n",
       "      <th>1698</th>\n",
       "      <td>1698</td>\n",
       "      <td>Zimbabwe</td>\n",
       "      <td>1982</td>\n",
       "      <td>7636524.0</td>\n",
       "      <td>Africa</td>\n",
       "      <td>60.363</td>\n",
       "      <td>788.855041</td>\n",
       "    </tr>\n",
       "    <tr>\n",
       "      <th>1699</th>\n",
       "      <td>1699</td>\n",
       "      <td>Zimbabwe</td>\n",
       "      <td>1987</td>\n",
       "      <td>9216418.0</td>\n",
       "      <td>Africa</td>\n",
       "      <td>62.351</td>\n",
       "      <td>706.157306</td>\n",
       "    </tr>\n",
       "    <tr>\n",
       "      <th>1700</th>\n",
       "      <td>1700</td>\n",
       "      <td>Zimbabwe</td>\n",
       "      <td>1992</td>\n",
       "      <td>10704340.0</td>\n",
       "      <td>Africa</td>\n",
       "      <td>60.377</td>\n",
       "      <td>693.420786</td>\n",
       "    </tr>\n",
       "    <tr>\n",
       "      <th>1701</th>\n",
       "      <td>1701</td>\n",
       "      <td>Zimbabwe</td>\n",
       "      <td>1997</td>\n",
       "      <td>11404948.0</td>\n",
       "      <td>Africa</td>\n",
       "      <td>46.809</td>\n",
       "      <td>792.449960</td>\n",
       "    </tr>\n",
       "    <tr>\n",
       "      <th>1702</th>\n",
       "      <td>1702</td>\n",
       "      <td>Zimbabwe</td>\n",
       "      <td>2002</td>\n",
       "      <td>11926563.0</td>\n",
       "      <td>Africa</td>\n",
       "      <td>39.989</td>\n",
       "      <td>672.038623</td>\n",
       "    </tr>\n",
       "    <tr>\n",
       "      <th>1703</th>\n",
       "      <td>1703</td>\n",
       "      <td>Zimbabwe</td>\n",
       "      <td>2007</td>\n",
       "      <td>12311143.0</td>\n",
       "      <td>Africa</td>\n",
       "      <td>43.487</td>\n",
       "      <td>469.709298</td>\n",
       "    </tr>\n",
       "  </tbody>\n",
       "</table>\n",
       "<p>1704 rows × 7 columns</p>\n",
       "</div>"
      ],
      "text/plain": [
       "      Unnamed: 0      country  year         pop continent  lifeExp  \\\n",
       "0              0  Afghanistan  1997  22227415.0      Asia   41.763   \n",
       "1              1  Afghanistan  2002  25268405.0      Asia   42.129   \n",
       "2              2  Afghanistan  2007  31889923.0      Asia   43.828   \n",
       "3              3  Afghanistan  1952   8425333.0      Asia   28.801   \n",
       "4              4  Afghanistan  1957   9240934.0      Asia   30.332   \n",
       "5              5  Afghanistan  1962  10267083.0      Asia   31.997   \n",
       "6              6  Afghanistan  1967  11537966.0      Asia   34.020   \n",
       "7              7  Afghanistan  1972  13079460.0      Asia   36.088   \n",
       "8              8  Afghanistan  1977  14880372.0      Asia   38.438   \n",
       "9              9  Afghanistan  1982  12881816.0      Asia   39.854   \n",
       "10            10  Afghanistan  1987  13867957.0      Asia   40.822   \n",
       "11            11  Afghanistan  1992  16317921.0      Asia   41.674   \n",
       "12            12      Albania  1952   1282697.0    Europe   55.230   \n",
       "13            13      Albania  1957   1476505.0    Europe   59.280   \n",
       "14            14      Albania  1962   1728137.0    Europe   64.820   \n",
       "15            15      Albania  1967   1984060.0    Europe   66.220   \n",
       "16            16      Albania  1972   2263554.0    Europe   67.690   \n",
       "17            17      Albania  1977   2509048.0    Europe   68.930   \n",
       "18            18      Albania  1982   2780097.0    Europe   70.420   \n",
       "19            19      Albania  1987   3075321.0    Europe   72.000   \n",
       "20            20      Albania  1992   3326498.0    Europe   71.581   \n",
       "21            21      Albania  1997   3428038.0    Europe   72.950   \n",
       "22            22      Albania  2002   3508512.0    Europe   75.651   \n",
       "23            23      Albania  2007   3600523.0    Europe   76.423   \n",
       "24            24      Algeria  1962  11000948.0    Africa   48.303   \n",
       "25            25      Algeria  1967  12760499.0    Africa   51.407   \n",
       "26            26      Algeria  1972  14760787.0    Africa   54.518   \n",
       "27            27      Algeria  1977  17152804.0    Africa   58.014   \n",
       "28            28      Algeria  1982  20033753.0    Africa   61.368   \n",
       "29            29      Algeria  1952   9279525.0    Africa   43.077   \n",
       "...          ...          ...   ...         ...       ...      ...   \n",
       "1674        1674  Yemen, Rep.  1982   9657618.0      Asia   49.113   \n",
       "1675        1675  Yemen, Rep.  1987  11219340.0      Asia   52.922   \n",
       "1676        1676  Yemen, Rep.  1992  13367997.0      Asia   55.599   \n",
       "1677        1677  Yemen, Rep.  1997  15826497.0      Asia   58.020   \n",
       "1678        1678  Yemen, Rep.  2002  18701257.0      Asia   60.308   \n",
       "1679        1679  Yemen, Rep.  2007  22211743.0      Asia   62.698   \n",
       "1680        1680       Zambia  1952   2672000.0    Africa   42.038   \n",
       "1681        1681       Zambia  1957   3016000.0    Africa   44.077   \n",
       "1682        1682       Zambia  1962   3421000.0    Africa   46.023   \n",
       "1683        1683       Zambia  1967   3900000.0    Africa   47.768   \n",
       "1684        1684       Zambia  1972   4506497.0    Africa   50.107   \n",
       "1685        1685       Zambia  1977   5216550.0    Africa   51.386   \n",
       "1686        1686       Zambia  1982   6100407.0    Africa   51.821   \n",
       "1687        1687       Zambia  1987   7272406.0    Africa   50.821   \n",
       "1688        1688       Zambia  1992   8381163.0    Africa   46.100   \n",
       "1689        1689       Zambia  1997   9417789.0    Africa   40.238   \n",
       "1690        1690       Zambia  2002  10595811.0    Africa   39.193   \n",
       "1691        1691       Zambia  2007  11746035.0    Africa   42.384   \n",
       "1692        1692     Zimbabwe  1952   3080907.0    Africa   48.451   \n",
       "1693        1693     Zimbabwe  1957   3646340.0    Africa   50.469   \n",
       "1694        1694     Zimbabwe  1962   4277736.0    Africa   52.358   \n",
       "1695        1695     Zimbabwe  1967   4995432.0    Africa   53.995   \n",
       "1696        1696     Zimbabwe  1972   5861135.0    Africa   55.635   \n",
       "1697        1697     Zimbabwe  1977   6642107.0    Africa   57.674   \n",
       "1698        1698     Zimbabwe  1982   7636524.0    Africa   60.363   \n",
       "1699        1699     Zimbabwe  1987   9216418.0    Africa   62.351   \n",
       "1700        1700     Zimbabwe  1992  10704340.0    Africa   60.377   \n",
       "1701        1701     Zimbabwe  1997  11404948.0    Africa   46.809   \n",
       "1702        1702     Zimbabwe  2002  11926563.0    Africa   39.989   \n",
       "1703        1703     Zimbabwe  2007  12311143.0    Africa   43.487   \n",
       "\n",
       "        gdpPercap  \n",
       "0      635.341351  \n",
       "1      726.734055  \n",
       "2      974.580338  \n",
       "3      779.445314  \n",
       "4      820.853030  \n",
       "5      853.100710  \n",
       "6      836.197138  \n",
       "7      739.981106  \n",
       "8      786.113360  \n",
       "9      978.011439  \n",
       "10     852.395945  \n",
       "11     649.341395  \n",
       "12    1601.056136  \n",
       "13    1942.284244  \n",
       "14    2312.888958  \n",
       "15    2760.196931  \n",
       "16    3313.422188  \n",
       "17    3533.003910  \n",
       "18    3630.880722  \n",
       "19    3738.932735  \n",
       "20    2497.437901  \n",
       "21    3193.054604  \n",
       "22    4604.211737  \n",
       "23    5937.029526  \n",
       "24    2550.816880  \n",
       "25    3246.991771  \n",
       "26    4182.663766  \n",
       "27    4910.416756  \n",
       "28    5745.160213  \n",
       "29    2449.008185  \n",
       "...           ...  \n",
       "1674  1977.557010  \n",
       "1675  1971.741538  \n",
       "1676  1879.496673  \n",
       "1677  2117.484526  \n",
       "1678  2234.820827  \n",
       "1679  2280.769906  \n",
       "1680  1147.388831  \n",
       "1681  1311.956766  \n",
       "1682  1452.725766  \n",
       "1683  1777.077318  \n",
       "1684  1773.498265  \n",
       "1685  1588.688299  \n",
       "1686  1408.678565  \n",
       "1687  1213.315116  \n",
       "1688  1210.884633  \n",
       "1689  1071.353818  \n",
       "1690  1071.613938  \n",
       "1691  1271.211593  \n",
       "1692   406.884115  \n",
       "1693   518.764268  \n",
       "1694   527.272182  \n",
       "1695   569.795071  \n",
       "1696   799.362176  \n",
       "1697   685.587682  \n",
       "1698   788.855041  \n",
       "1699   706.157306  \n",
       "1700   693.420786  \n",
       "1701   792.449960  \n",
       "1702   672.038623  \n",
       "1703   469.709298  \n",
       "\n",
       "[1704 rows x 7 columns]"
      ]
     },
     "execution_count": 3,
     "metadata": {},
     "output_type": "execute_result"
    }
   ],
   "source": [
    "df"
   ]
  },
  {
   "cell_type": "markdown",
   "metadata": {},
   "source": [
    "* What if we wanted to break up all the data into files for each continent?\n",
    "* What if we wanted to have only one row for each country?\n",
    "  * We would have to have columns for each year\n",
    "  \n",
    "** Don't worry about all of the code in the block below. By the end of this section it will make sense. **"
   ]
  },
  {
   "cell_type": "code",
   "execution_count": 6,
   "metadata": {},
   "outputs": [],
   "source": [
    "allcountries_df = pd.read_csv(\"../data/processed_data/gapminder_final.csv\")\n",
    "df_t = allcountries_df\n",
    "\n",
    "years = sorted(list(df_t['year'].unique()))\n",
    "# Convert years to strings\n",
    "\n",
    "for year in years:\n",
    "    col_name = \"gdpPercap_\" + str(year)\n",
    "    df_t[col_name] = 0\n",
    "\n",
    "for y in years:\n",
    "    df_t.loc[df_t.year == y, \"gdpPercap_\" + str(y)] = df_t[\"gdpPercap\"]\n",
    "\n",
    "df_t = df_t.groupby(df_t[\"country\"]).max()\n",
    "df_t[\"pop2007\"] = df_t[\"pop\"]\n",
    "df_t[\"lifeExp2007\"] = df_t[\"lifeExp\"]\n",
    "\n",
    "df_t.drop(\"country\", axis=1, inplace=True)\n",
    "df_t.drop(\"gdpPercap\", axis=1, inplace=True)\n",
    "df_t.drop(\"year\", axis=1, inplace=True)\n",
    "df_t.drop(\"lifeExp\", axis=1, inplace=True)\n",
    "\n",
    "continents = df_t[\"continent\"].unique()\n",
    "\n",
    "df_t.to_csv(\"../data/gapminder_All.csv\")\n",
    "\n",
    "for continent in continents:\n",
    "    new_df = df_t.loc[df_t[\"continent\"] == continent]\n",
    "    newfilename = \"gapminder_\" + continent + \".csv\"\n",
    "    new_df.to_csv(\"../data/\" + newfilename)\n",
    "    \n",
    "\n"
   ]
  },
  {
   "cell_type": "markdown",
   "metadata": {},
   "source": [
    "* Check out our data folder after we ran this script. We now have six additional csv files.\n",
    "    ~~~\n",
    "    * gapminder_All.csv\n",
    "    * gapminder_Oceana.csv\n",
    "    * gapminder_Europe.csv\n",
    "    * gapminder_Asia.csv\n",
    "    * gapminder_Americas.csv\n",
    "    * gapminder_Africa.csv\n",
    "    ~~~"
   ]
  },
  {
   "cell_type": "markdown",
   "metadata": {},
   "source": [
    "Lets read in the Africa csv to see how the structure has changed."
   ]
  },
  {
   "cell_type": "code",
   "execution_count": 8,
   "metadata": {},
   "outputs": [],
   "source": [
    "# Read in gapminder_Africa.csv as a data frame\n",
    "df_africa = pd.read_csv(\"../data/gapminder_Africa.csv\", index_col=\"country\")"
   ]
  },
  {
   "cell_type": "markdown",
   "metadata": {},
   "source": [
    "We can see that now there is only one row for each country. Lets re-read the file using the index_col parameter"
   ]
  },
  {
   "cell_type": "code",
   "execution_count": 12,
   "metadata": {},
   "outputs": [
    {
     "data": {
      "text/plain": [
       "count      52.000000\n",
       "mean     1252.572466\n",
       "std       982.952116\n",
       "min       298.846212\n",
       "25%       534.990554\n",
       "50%       987.025569\n",
       "75%      1454.886645\n",
       "max      4725.295531\n",
       "Name: gdpPercap_1952, dtype: float64"
      ]
     },
     "execution_count": 12,
     "metadata": {},
     "output_type": "execute_result"
    }
   ],
   "source": [
    "# Re-read the file using index_cols\n",
    "df_africa[\"gdpPercap_1952\"].describe()"
   ]
  },
  {
   "cell_type": "markdown",
   "metadata": {},
   "source": [
    "## Inspecting Data\n",
    "We've already see how we can get information about a dataframe using the `.info()` and `.describe()` functions, but there are many ways to get information and view a data frame"
   ]
  },
  {
   "cell_type": "markdown",
   "metadata": {},
   "source": [
    "* Can also use describe() on data frame selections (like a single column)"
   ]
  },
  {
   "cell_type": "code",
   "execution_count": 11,
   "metadata": {},
   "outputs": [
    {
     "data": {
      "text/plain": [
       "country\n",
       "Algeria                     2449.008185\n",
       "Angola                      3520.610273\n",
       "Benin                       1062.752200\n",
       "Botswana                     851.241141\n",
       "Burkina Faso                 543.255241\n",
       "Burundi                      339.296459\n",
       "Cameroon                    1172.667655\n",
       "Central African Republic    1071.310713\n",
       "Chad                        1178.665927\n",
       "Comoros                     1102.990936\n",
       "Congo, Dem. Rep.             780.542326\n",
       "Congo, Rep.                 2125.621418\n",
       "Cote d'Ivoire               1388.594732\n",
       "Djibouti                    2669.529475\n",
       "Egypt                       1418.822445\n",
       "Equatorial Guinea            375.643123\n",
       "Eritrea                      328.940557\n",
       "Ethiopia                     362.146280\n",
       "Gabon                       4293.476475\n",
       "Gambia                       485.230659\n",
       "Ghana                        911.298937\n",
       "Guinea                       510.196492\n",
       "Guinea-Bissau                299.850319\n",
       "Kenya                        853.540919\n",
       "Lesotho                      298.846212\n",
       "Liberia                      575.572996\n",
       "Libya                       2387.548060\n",
       "Madagascar                  1443.011715\n",
       "Malawi                       369.165080\n",
       "Mali                         452.336981\n",
       "Mauritania                   743.115910\n",
       "Mauritius                   1967.955707\n",
       "Morocco                     1688.203570\n",
       "Mozambique                   468.526038\n",
       "Namibia                     2423.780443\n",
       "Niger                        761.879376\n",
       "Nigeria                     1077.281856\n",
       "Reunion                     2718.885295\n",
       "Rwanda                       493.323875\n",
       "Sao Tome and Principe        879.583586\n",
       "Senegal                     1450.356983\n",
       "Sierra Leone                 879.787736\n",
       "Somalia                     1135.749842\n",
       "South Africa                4725.295531\n",
       "Sudan                       1615.991129\n",
       "Swaziland                   1148.376626\n",
       "Tanzania                     716.650072\n",
       "Togo                         859.808657\n",
       "Tunisia                     1468.475631\n",
       "Uganda                       734.753484\n",
       "Zambia                      1147.388831\n",
       "Zimbabwe                     406.884115\n",
       "Name: gdpPercap_1952, dtype: float64"
      ]
     },
     "execution_count": 11,
     "metadata": {},
     "output_type": "execute_result"
    }
   ],
   "source": [
    "# Use the .describe() function on the \"gdpPercap\" column\n",
    "df_africa[\"gdpPercap_1952\"].describe()"
   ]
  },
  {
   "cell_type": "markdown",
   "metadata": {},
   "source": [
    "* We can print the first or last x number of rows of our data frame using the head() and tails() functions."
   ]
  },
  {
   "cell_type": "code",
   "execution_count": null,
   "metadata": {
    "collapsed": true
   },
   "outputs": [],
   "source": [
    "# heads() function\n"
   ]
  },
  {
   "cell_type": "code",
   "execution_count": null,
   "metadata": {
    "collapsed": true
   },
   "outputs": [],
   "source": [
    "# tails() function\n"
   ]
  },
  {
   "cell_type": "markdown",
   "metadata": {},
   "source": [
    "* **Note:** head() and tail() default to 5 rows worth of data. We can also pass a value to either to get more or less rows.\n",
    "  * E.g.  \n",
    "  head(10)\n",
    "  \n",
    " ---\n",
    "  \n",
    "* Use `.dtypes` method to get the data type for each column"
   ]
  },
  {
   "cell_type": "code",
   "execution_count": 13,
   "metadata": {},
   "outputs": [
    {
     "data": {
      "text/plain": [
       "Unnamed: 0          int64\n",
       "pop               float64\n",
       "continent          object\n",
       "gdpPercap_1952    float64\n",
       "gdpPercap_1957    float64\n",
       "gdpPercap_1962    float64\n",
       "gdpPercap_1967    float64\n",
       "gdpPercap_1972    float64\n",
       "gdpPercap_1977    float64\n",
       "gdpPercap_1982    float64\n",
       "gdpPercap_1987    float64\n",
       "gdpPercap_1992    float64\n",
       "gdpPercap_1997    float64\n",
       "gdpPercap_2002    float64\n",
       "gdpPercap_2007    float64\n",
       "pop2007           float64\n",
       "lifeExp2007       float64\n",
       "dtype: object"
      ]
     },
     "execution_count": 13,
     "metadata": {},
     "output_type": "execute_result"
    }
   ],
   "source": [
    "# Write your code here\n",
    "df_africa.dtypes"
   ]
  },
  {
   "cell_type": "markdown",
   "metadata": {},
   "source": [
    "* Use `shape` method to get the row and column numbers"
   ]
  },
  {
   "cell_type": "code",
   "execution_count": 14,
   "metadata": {},
   "outputs": [
    {
     "data": {
      "text/plain": [
       "(52, 17)"
      ]
     },
     "execution_count": 14,
     "metadata": {},
     "output_type": "execute_result"
    }
   ],
   "source": [
    "# Write your code here\n",
    "df_africa.shape"
   ]
  },
  {
   "cell_type": "markdown",
   "metadata": {},
   "source": [
    "Here we can see the that the data have 52 rows of data and 18 attributes worth of information.\n",
    "\n",
    "* Use the `len()` function to get numbers of each individually"
   ]
  },
  {
   "cell_type": "code",
   "execution_count": null,
   "metadata": {
    "collapsed": true
   },
   "outputs": [],
   "source": [
    "# print number of rows of data\n"
   ]
  },
  {
   "cell_type": "code",
   "execution_count": null,
   "metadata": {
    "collapsed": true
   },
   "outputs": [],
   "source": [
    "# print number of columns of data\n"
   ]
  },
  {
   "cell_type": "markdown",
   "metadata": {},
   "source": [
    "* As seen before we can pass the data frame a column name to get all values for that column\n",
    "\n",
    "\n",
    "* Print out only the lifeExp2007 column from the data frame"
   ]
  },
  {
   "cell_type": "code",
   "execution_count": 17,
   "metadata": {},
   "outputs": [
    {
     "data": {
      "text/plain": [
       "country\n",
       "Algeria                     72.301\n",
       "Angola                      42.731\n",
       "Benin                       56.728\n",
       "Botswana                    63.622\n",
       "Burkina Faso                52.295\n",
       "Burundi                     49.580\n",
       "Cameroon                    54.985\n",
       "Central African Republic    50.485\n",
       "Chad                        51.724\n",
       "Comoros                     65.152\n",
       "Congo, Dem. Rep.            47.804\n",
       "Congo, Rep.                 57.470\n",
       "Cote d'Ivoire               54.655\n",
       "Djibouti                    54.791\n",
       "Egypt                       71.338\n",
       "Equatorial Guinea           51.579\n",
       "Eritrea                     58.040\n",
       "Ethiopia                    52.947\n",
       "Gabon                       61.366\n",
       "Gambia                      59.448\n",
       "Ghana                       60.022\n",
       "Guinea                      56.007\n",
       "Guinea-Bissau               46.388\n",
       "Kenya                       59.339\n",
       "Lesotho                     59.685\n",
       "Liberia                     46.027\n",
       "Libya                       73.952\n",
       "Madagascar                  59.443\n",
       "Malawi                      49.420\n",
       "Mali                        54.467\n",
       "Mauritania                  64.164\n",
       "Mauritius                   72.801\n",
       "Morocco                     71.164\n",
       "Mozambique                  46.344\n",
       "Namibia                     61.999\n",
       "Niger                       56.867\n",
       "Nigeria                     47.472\n",
       "Reunion                     76.442\n",
       "Rwanda                      46.242\n",
       "Sao Tome and Principe       65.528\n",
       "Senegal                     63.062\n",
       "Sierra Leone                42.568\n",
       "Somalia                     48.159\n",
       "South Africa                61.888\n",
       "Sudan                       58.556\n",
       "Swaziland                   58.474\n",
       "Tanzania                    52.517\n",
       "Togo                        58.420\n",
       "Tunisia                     73.923\n",
       "Uganda                      51.542\n",
       "Zambia                      51.821\n",
       "Zimbabwe                    62.351\n",
       "Name: lifeExp2007, dtype: float64"
      ]
     },
     "execution_count": 17,
     "metadata": {},
     "output_type": "execute_result"
    }
   ],
   "source": [
    "# Write your code here\n",
    "df_africa[\"lifeExp2007\"]"
   ]
  },
  {
   "cell_type": "markdown",
   "metadata": {},
   "source": [
    "---\n",
    "## EXERCISE:\n",
    "1. How many different country names are there in the gapminder_all.csv file?\n",
    "\n",
    "---"
   ]
  },
  {
   "cell_type": "code",
   "execution_count": 22,
   "metadata": {},
   "outputs": [
    {
     "name": "stdout",
     "output_type": "stream",
     "text": [
      "142\n",
      "142\n",
      "142\n"
     ]
    }
   ],
   "source": [
    "# Write your code here\n",
    "df = pd.read_csv(\"../data/gapminder_All.csv\", index_col=\"country\")\n",
    "df.shape\n",
    "\n",
    "print(len(df.index.unique().tolist()))\n",
    "print(len(df))\n",
    "print(df.shape[0])"
   ]
  },
  {
   "cell_type": "markdown",
   "metadata": {},
   "source": [
    "---\n",
    "## EXERCISE:\n",
    "1. What is the last country listed in the Africa data frame?\n",
    "\n",
    "---"
   ]
  },
  {
   "cell_type": "code",
   "execution_count": null,
   "metadata": {
    "collapsed": true
   },
   "outputs": [],
   "source": [
    "# Write your code here\n",
    "df = pd.read_csv(\"../data/gapminder_Africa.csv\", index_col=\"country\")\n",
    "df.shape"
   ]
  },
  {
   "cell_type": "markdown",
   "metadata": {},
   "source": [
    "---\n",
    "## Get information about a particular column\n",
    "\n",
    "* Operations like mean, max, min, can be used on individual columns\n",
    "  * E.g. `df['year'].min()`"
   ]
  },
  {
   "cell_type": "code",
   "execution_count": null,
   "metadata": {
    "collapsed": true
   },
   "outputs": [],
   "source": [
    "# What is the minimum value in the year column?\n"
   ]
  },
  {
   "cell_type": "markdown",
   "metadata": {},
   "source": [
    "---\n",
    "## EXERCISE:\n",
    "1. What is the mean life expectancy in 2007 for all countries in all years\n",
    "\n",
    "1. What is the max population in 2007 for all countries in all years\n",
    "\n",
    "1. What is the standard deviation for GDP per capita for all countries in all years\n"
   ]
  },
  {
   "cell_type": "code",
   "execution_count": null,
   "metadata": {
    "collapsed": true
   },
   "outputs": [],
   "source": [
    "df = pd.read_csv(\"./data/gapminder_all.csv\")\n",
    "# Mean Life Expectancy in 2007\n",
    "\n",
    "# Max Population in 2007\n",
    "\n",
    "# Standard Deviation of GDP per capita in 1952\n"
   ]
  },
  {
   "cell_type": "markdown",
   "metadata": {},
   "source": [
    "## Rearange Columns\n",
    "\n",
    "* This is difficult to do using a csv library or by hand\n",
    "* The reverse() function will reverse the ordering of a list\n",
    "     * E.g.   `['a', 'b', 'c']` to `['c', 'b', 'a']`"
   ]
  },
  {
   "cell_type": "code",
   "execution_count": null,
   "metadata": {
    "collapsed": true
   },
   "outputs": [],
   "source": [
    "# Use the python list() function to get the data frame columns a s list\n",
    "cols = list(df.columns)\n",
    "print( cols )\n",
    "\n",
    "# use the .reverse() function to reverse the ordering of the columns\n",
    "\n",
    "print ( cols )"
   ]
  },
  {
   "cell_type": "markdown",
   "metadata": {},
   "source": [
    "* Using that now reversed list above, we can pass the list to the new data frame to reorder the columns"
   ]
  },
  {
   "cell_type": "code",
   "execution_count": null,
   "metadata": {
    "collapsed": true
   },
   "outputs": [],
   "source": [
    "# Pass the cols variable to the data frame to re-arrange the columns\n"
   ]
  },
  {
   "cell_type": "markdown",
   "metadata": {},
   "source": [
    "## Transposing tables\n",
    "\n",
    "In many cases we may need to transpose the column and rows in a table.  Pandas allows us to to this easily with the `T` command.\n"
   ]
  },
  {
   "cell_type": "code",
   "execution_count": null,
   "metadata": {
    "collapsed": true,
    "scrolled": true
   },
   "outputs": [],
   "source": [
    "# Print first three rows of the data frame\n",
    "\n",
    "# Transpose the dataframe and print the first three rows\n"
   ]
  },
  {
   "cell_type": "markdown",
   "metadata": {},
   "source": [
    "---\n",
    "## EXERCISE:\n",
    "1. Read in a new data frame for the gapminder_Americas.csv file\n",
    "2. Print the last last three columns of the data frame"
   ]
  },
  {
   "cell_type": "code",
   "execution_count": null,
   "metadata": {
    "collapsed": true
   },
   "outputs": [],
   "source": []
  },
  {
   "cell_type": "markdown",
   "metadata": {},
   "source": [
    "---\n",
    "## Selecting values\n",
    "\n",
    "Data Frames provides a index as a way to identify the rows of the table. A row also has a position inside the table as well as a label, which uniquely identifies its entry in the DataFrame.\n",
    "\n",
    "To access a value at the position [ i , j ] (row, column) of a Data Frame, we have two options, depending on what is the meaning of i in use."
   ]
  },
  {
   "cell_type": "markdown",
   "metadata": {},
   "source": [
    "### Use DataFrame.iloc[..., ...] to select values by their position\n",
    "* Allows you to specify location by numerical index similar to 2D version of character selection in strings.\n"
   ]
  },
  {
   "cell_type": "code",
   "execution_count": null,
   "metadata": {
    "collapsed": true
   },
   "outputs": [],
   "source": [
    "print(\"\\nData value in first row at first column: \", df.iloc[0, 0])"
   ]
  },
  {
   "cell_type": "code",
   "execution_count": null,
   "metadata": {
    "collapsed": true
   },
   "outputs": [],
   "source": [
    "print(\"\\nData value in fifth row at third column: \", df.iloc[4, 2])"
   ]
  },
  {
   "cell_type": "markdown",
   "metadata": {},
   "source": [
    "### Use `DataFrame.loc[..., ...]` to select values by their (index) label.\n",
    "\n",
    "*   Can specify location by name or by numerical index."
   ]
  },
  {
   "cell_type": "code",
   "execution_count": null,
   "metadata": {
    "collapsed": true
   },
   "outputs": [],
   "source": [
    "# Print the value of Albanias GDP per capita in 1952 using .loc\n"
   ]
  },
  {
   "cell_type": "code",
   "execution_count": null,
   "metadata": {
    "collapsed": true
   },
   "outputs": [],
   "source": [
    "# Print the value of Bulgarias GDP per capita in 1962 using .loc\n"
   ]
  },
  {
   "cell_type": "markdown",
   "metadata": {},
   "source": [
    "---\n",
    "## EXERCISE\n",
    "~~~\n",
    "import pandas\n",
    "df = pandas.read_csv('data/gapminder_Europe.csv', index_col='country')\n",
    "~~~\n",
    "\n",
    "1. Find the Per Capita GDP for Serbia in 2007.\n",
    "1. Find the Per Capita GDPs for Germany in 1982"
   ]
  },
  {
   "cell_type": "code",
   "execution_count": null,
   "metadata": {
    "collapsed": true
   },
   "outputs": [],
   "source": [
    "# Write your code here\n"
   ]
  },
  {
   "cell_type": "markdown",
   "metadata": {},
   "source": [
    "---\n",
    "## Slicing Data Frames\n",
    "\n",
    "### Use `:` on its own to mean all columns or all rows.\n",
    "\n",
    "*   Just like Python's usual slicing notation, we can print all columns or all rows with `.loc` using the `:`"
   ]
  },
  {
   "cell_type": "code",
   "execution_count": null,
   "metadata": {
    "collapsed": true
   },
   "outputs": [],
   "source": [
    "# Print all of the row values for all years for Egypt\n"
   ]
  },
  {
   "cell_type": "markdown",
   "metadata": {},
   "source": [
    "* Would get the same result printing `df.iloc[0]` (without a second index).\n",
    "* We can also omit the `:` and get all rows.\n",
    "    * e.g. `df.loc[\"Albania\"]`"
   ]
  },
  {
   "cell_type": "code",
   "execution_count": null,
   "metadata": {
    "collapsed": true
   },
   "outputs": [],
   "source": [
    "# Print the GDP per capita for all countries in 1952\n"
   ]
  },
  {
   "cell_type": "markdown",
   "metadata": {},
   "source": [
    "*   Would get the same result printing `df[\"gdpPercap_1952\"]`\n",
    "*   Also get the same result printing `df.gdpPercap_1952` (since it's a column name)"
   ]
  },
  {
   "cell_type": "markdown",
   "metadata": {},
   "source": [
    "---\n",
    "## EXERCISE:\n",
    "1. Print out GDP per capita for all countries in asia in 1972\n",
    "\n"
   ]
  },
  {
   "cell_type": "code",
   "execution_count": null,
   "metadata": {
    "collapsed": true
   },
   "outputs": [],
   "source": [
    "# Write your code here\n"
   ]
  },
  {
   "cell_type": "markdown",
   "metadata": {},
   "source": [
    "---\n",
    "### We can also use the `:` to select whole sections of a table \n",
    "* Similar to the way we would select a section of from a normal python list, we can do the same with data frames."
   ]
  },
  {
   "cell_type": "code",
   "execution_count": null,
   "metadata": {
    "collapsed": true
   },
   "outputs": [],
   "source": [
    "# Print a selection of all countries in the table from Italy to Poland from years 1962 to 1972\n"
   ]
  },
  {
   "cell_type": "markdown",
   "metadata": {},
   "source": [
    "Note that in Pandas **slicing using indexes is inclusive at both ends**, which differs from typical python behavior where slicing indicates everything up to but not including the final index."
   ]
  },
  {
   "cell_type": "markdown",
   "metadata": {},
   "source": [
    "### Select multiple columns or rows using `DataFrame.iloc` and a named slice.\n",
    "* We can also make selection from a data frame using the index location of the row or column\n",
    "    * Remember that in programming languages, we start counting at 0"
   ]
  },
  {
   "cell_type": "code",
   "execution_count": null,
   "metadata": {
    "collapsed": true
   },
   "outputs": [],
   "source": [
    "#Print the first row of the data frame using the .head() function\n",
    "print(\"First row of data frame:\\n\",  )\n",
    "\n",
    "# Use iloc to print the value in the first row of the first column\n",
    "print(\"\\n\\nValue in the first row of the first column:\\n\",  )\n",
    "\n",
    "# Use iloc to print the values of the first two columns in the first row\n",
    "print(\"Values in the first two columes in the first row:\\n\",  )"
   ]
  },
  {
   "cell_type": "markdown",
   "metadata": {},
   "source": [
    "* **Note that unlike slicing using column or row names, slicing using indexes is not inclusive** "
   ]
  },
  {
   "cell_type": "markdown",
   "metadata": {},
   "source": [
    "---\n",
    "## EXERCISE:\n",
    "1. Print out all values from Hungary through Montenegro (Europe data) for the years 1977 through 1997"
   ]
  },
  {
   "cell_type": "code",
   "execution_count": null,
   "metadata": {
    "collapsed": true
   },
   "outputs": [],
   "source": [
    "# Write code here\n"
   ]
  },
  {
   "cell_type": "markdown",
   "metadata": {},
   "source": [
    "---\n",
    "## EXERCISE:\n",
    "1.  Do the two statements below produce the same output?\n",
    "    ~~~\n",
    "    print(df.iloc[0:2, 0:2])\n",
    "    print(df.loc['Albania':'Belgium', 'gdpPercap_1952':'gdpPercap_1962'])\n",
    "    ~~~\n",
    "\n",
    "1.  Based on this,what rule governs what is included (or not) in numerical slices and named slices in Pandas?\n"
   ]
  },
  {
   "cell_type": "code",
   "execution_count": null,
   "metadata": {
    "collapsed": true
   },
   "outputs": [],
   "source": []
  },
  {
   "cell_type": "markdown",
   "metadata": {},
   "source": [
    "---\n",
    "### Slicing individual rows and columns\n",
    "* Instead of creating slices of *this* to *that* using the `:`, we can also slice using individual rows and columns by placing names or indexes in brackets `[]`."
   ]
  },
  {
   "cell_type": "code",
   "execution_count": null,
   "metadata": {
    "collapsed": true
   },
   "outputs": [],
   "source": [
    "# Print out the GDP per capita of only Italy, Austria, and the United Kingdom in the years 2007 and 1957\n"
   ]
  },
  {
   "cell_type": "markdown",
   "metadata": {},
   "source": [
    "---\n",
    "## EXERCISE:\n",
    "1. Using the index locations, `print` out the first, third, and eight columns for the sixteenth through nineteenth rows."
   ]
  },
  {
   "cell_type": "code",
   "execution_count": null,
   "metadata": {
    "collapsed": true
   },
   "outputs": [],
   "source": []
  },
  {
   "cell_type": "markdown",
   "metadata": {},
   "source": [
    "---\n",
    "## Result of slicing can be used in further operations."
   ]
  },
  {
   "cell_type": "code",
   "execution_count": null,
   "metadata": {
    "collapsed": true
   },
   "outputs": [],
   "source": [
    "# Print out the max value (.max()) of ALL countries from Italy to Poland for 1962 to 1972\n"
   ]
  },
  {
   "cell_type": "code",
   "execution_count": null,
   "metadata": {
    "collapsed": true
   },
   "outputs": [],
   "source": [
    "# Print out the min value (.min()) of ALL countries from Italy to Poland for 1962 to 1972\n"
   ]
  },
  {
   "cell_type": "markdown",
   "metadata": {},
   "source": [
    "*   Usually don't just print a slice.\n",
    "*   All the statistical operators that work on entire data frames work the same way on slices."
   ]
  },
  {
   "cell_type": "markdown",
   "metadata": {},
   "source": [
    "## Create data frame from selections\n",
    "\n",
    "* We can create new data frame by selecting data frames based on values and assigining it to a variable"
   ]
  },
  {
   "cell_type": "code",
   "execution_count": null,
   "metadata": {
    "collapsed": true
   },
   "outputs": [],
   "source": [
    "# Create a selection of ALL countries from Italy to Poland for 1962 to 1972 and \n",
    "#  assign the selection to a variable name \"subset_df\"\n",
    "\n",
    "print('Subset of data:\\n', subset_df)"
   ]
  },
  {
   "cell_type": "markdown",
   "metadata": {},
   "source": [
    "## Create DataFrame using query\n",
    "* We can query values in a data frame to create new selections\n",
    "* By passing a dataframe query to itself, we can create a new dataframe with only those values"
   ]
  },
  {
   "cell_type": "code",
   "execution_count": null,
   "metadata": {
    "collapsed": true
   },
   "outputs": [],
   "source": [
    "# Create a query for the \"gdpPerCap_1962\" series in out subset_df data frame for all values greater than 10000\n",
    "\n",
    "# Create a new data frame called subset_10k_df by passing that query to the subset_df data frame\n",
    "\n",
    "\n",
    "print(query_10k)\n",
    "print(subset_10k_df)\n",
    "print(subset_10k_df.shape)"
   ]
  },
  {
   "cell_type": "markdown",
   "metadata": {},
   "source": [
    "---\n",
    "## EXERCISE:\n",
    "\n",
    "* Create three data frames and get the size of each one.\n",
    "    1. Countries with a gdp per capita in 1952 above 10000\n",
    "    1. Countries with a gdp per capita in 1962 above 10000\n",
    "    1. Countries with a gdp per capita in 1972 above 10000\n",
    "\n",
    "---"
   ]
  },
  {
   "cell_type": "code",
   "execution_count": null,
   "metadata": {
    "collapsed": true
   },
   "outputs": [],
   "source": []
  },
  {
   "cell_type": "markdown",
   "metadata": {},
   "source": [
    "## Filter a DataFrame using a Boolean mask\n",
    "\n",
    "* A frame full of Booleans is sometimes called a *mask* because of how it can be used\n",
    "* Comparison is applied element by element\n",
    "* Returns a similarly-shaped data frame of `True` and `False`"
   ]
  },
  {
   "cell_type": "code",
   "execution_count": null,
   "metadata": {
    "collapsed": true,
    "scrolled": true
   },
   "outputs": [],
   "source": [
    "# Create a full data frame mask for subset_df with a query for all values in all years greater than 10000\n",
    "mask_10k = \n",
    "\n",
    "print( mask_10k )"
   ]
  },
  {
   "cell_type": "markdown",
   "metadata": {},
   "source": [
    "* We can use masks to filter an entire dataframe with a single query\n",
    "    * More efficient than using a single query on multiple columns"
   ]
  },
  {
   "cell_type": "code",
   "execution_count": null,
   "metadata": {
    "collapsed": true
   },
   "outputs": [],
   "source": [
    "# Pass the mask query to subset_df to create a new data frame mask_subset\n",
    "mask_subset = \n",
    "\n",
    "print(mask_subset)\n",
    "print(\"Shape: \", mask_subset.shape)"
   ]
  },
  {
   "cell_type": "markdown",
   "metadata": {},
   "source": [
    "*   Returns the value where the mask is true, and NaN (Not a Number) where it is false.\n",
    "*   Useful because NaNs are ignored by operations like max, min, average, etc.\n",
    "\n",
    "\n",
    "* If we wanted to remove all rows with a NaN value in any column we could use the `.dropna()` function"
   ]
  },
  {
   "cell_type": "code",
   "execution_count": null,
   "metadata": {
    "collapsed": true
   },
   "outputs": [],
   "source": [
    "# Print the mask_subset data frame with all rows with a single NaN value removed\n",
    "\n",
    "\n",
    "# Print the shape of the mask_subset data frame with all rows with an NaN values removed\n"
   ]
  },
  {
   "cell_type": "markdown",
   "metadata": {},
   "source": [
    "## Create new columns\n",
    "\n",
    "* We can easily create new columns in the same way we would add a key and value to a dictionary"
   ]
  },
  {
   "cell_type": "code",
   "execution_count": null,
   "metadata": {
    "collapsed": true
   },
   "outputs": [],
   "source": [
    "# Create a new column in data frame called diff_07_52 that is the difference between gdp per capita from 1952 to 2007\n",
    "\n",
    "\n",
    "print(df.head(1))"
   ]
  },
  {
   "cell_type": "markdown",
   "metadata": {},
   "source": [
    "---\n",
    "## EtherPad\n",
    "\n",
    "On EtherPad explain what the follow expression does:\n",
    "\n",
    "    only_Am = df[df['continent'] == 'Americas']\n",
    "\n",
    "___"
   ]
  },
  {
   "cell_type": "markdown",
   "metadata": {},
   "source": [
    "## EXERCISE:\n",
    "1. Explain in simple terms what `idxmin` and `idxmax` do in the short program below.\n",
    "    ~~~\n",
    "    df = pd.read_csv('data/gapminder_gdp_europe.csv', index_col='country')\n",
    "    print(df.idxmin())\n",
    "    print(df.idymax())\n",
    "    ~~~\n",
    "\n",
    "2. When would you use these methods?"
   ]
  },
  {
   "cell_type": "code",
   "execution_count": null,
   "metadata": {
    "collapsed": true
   },
   "outputs": [],
   "source": []
  },
  {
   "cell_type": "markdown",
   "metadata": {},
   "source": [
    "---\n",
    "## PRACTICE EXERCISE.\n",
    "Using the Gapminder GDP data for Europe, write an expression to select each of the following:\n",
    "1.  GDP per capita for all countries in 1982.\n",
    "1.  GDP per capita for Denmark for all years.\n",
    "1.  GDP per capita for all countries for years *after* 1985.\n",
    "1.  GDP per capita for each country in 2007 as a multiple of GDP per capita for that country in 1952.\n",
    "---"
   ]
  },
  {
   "cell_type": "markdown",
   "metadata": {},
   "source": [
    "# -- COMMIT YOUR WORK TO GITHUB --"
   ]
  },
  {
   "cell_type": "markdown",
   "metadata": {},
   "source": [
    "---\n",
    "## Keypoints:\n",
    " - \"Use `DataFrame.iloc[..., ...]` to select values by index location.\"\n",
    " - \"Use `:` on its own to mean all columns or all rows.\"\n",
    " - \"Select multiple columns or rows using `DataFrame.ix` and a named slice.\"\n",
    " - \"Result of slicing can be used in further operations.\"\n",
    " - \"Use comparisons to select data based on value.\"\n",
    " - \"Select values or NaN using a Boolean mask.\""
   ]
  }
 ],
 "metadata": {
  "anaconda-cloud": {},
  "kernelspec": {
   "display_name": "Python 3",
   "language": "python",
   "name": "python3"
  },
  "language_info": {
   "codemirror_mode": {
    "name": "ipython",
    "version": 3
   },
   "file_extension": ".py",
   "mimetype": "text/x-python",
   "name": "python",
   "nbconvert_exporter": "python",
   "pygments_lexer": "ipython3",
   "version": "3.6.3"
  }
 },
 "nbformat": 4,
 "nbformat_minor": 2
}
